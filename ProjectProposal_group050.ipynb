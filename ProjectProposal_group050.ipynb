{
 "cells": [
  {
   "cell_type": "markdown",
   "metadata": {},
   "source": [
    "# COGS 108 - Final Project Proposal"
   ]
  },
  {
   "cell_type": "markdown",
   "metadata": {},
   "source": [
    "# Names\n",
    "\n",
    "- Kai Yui Yeung\n",
    "- Haixin Chen\n",
    "- Zhilin Kong\n",
    "- Tony Bao\n",
    "- Xiaofan Mu"
   ]
  },
  {
   "cell_type": "markdown",
   "metadata": {},
   "source": [
    "# Research Question"
   ]
  },
  {
   "cell_type": "markdown",
   "metadata": {},
   "source": [
    "-  Include a specific, clear data science question.\n",
    "-  Make sure what you're measuring (variables) to answer the question is clear\n",
    "\n",
    "What is your research question? Include the specific question you're setting out to answer. This question should be specific, answerable with data, and clear. A general question with specific subquestions is permitted. (1-2 sentences)\n",
    "\n",
    "**Can we find a linear relationship between electric vehicles' electricity efficiency (Wh/km, a response variable) and several explanatory variables such as weight, horsepower, temperature, and so on. Hence, given x km, we can estimate the amount of electricity, in terms of Wh, that we need to charge.**\n",
    "\n"
   ]
  },
  {
   "cell_type": "markdown",
   "metadata": {},
   "source": [
    "## Background and Prior Work"
   ]
  },
  {
   "cell_type": "markdown",
   "metadata": {},
   "source": [
    "To avoid the worst effects of global warming, the international community should take unprecedented action to limit the Earth's temperature rise to 1.5 degrees Celsius instead of the previous target of 2 degrees, according to the October 8, 2018 report of the United Nations Intergovernmental Panel on Climate Change (IPCC)[^IPCC]. The report also emphasizes the relevance of changing living and consumption habits to climate change, including reducing energy consumption in daily life and changing travel patterns, such as reducing the use of private cars and switching to public transport, walking, or cycling. So, transportation probably is the single largest source of global warming emissions and air pollution in a state. \n",
    "\n",
    "In California, transportation accounts for approximately 50% of greenhouse gas emissions (fuel production emissions) and 80% of air pollutants[^ca.gov]. The new regulation accelerates requirements that automakers deliver an increasing number of zero-emission light-duty vehicles each year beginning in 2026. Sales of new ZEVs and PHEVs will start at 35% that year, build to 68% in 2030, and reach 100% in 2035.[^ca.gov]. Therefore, Considering environmental protection and government subsidies and policies, electric vehicles will become more and more popular in the future.\n",
    "\n",
    "Based on the trend that electric vehicles are only increasing, we intend to study the efficiency(Wh/km) of electric vehicles to estimate the additional amount of electricity that California needs to provide or the number of additional power stations that need to be built in California in the future. However, in 2021, California's natural gas-fired electric generation accounted for over 50% of in-state generation, while total renewable generation, as shown in the California Power Mix, stood at about 35%[^energy]. Therefore, to better plan the construction of new energy generation, it is necessary to analyze the efficiency of electric vehicles.\n",
    "\n",
    "\n",
    "[^IPCC]: “Summary for Policymakers of IPCC Special Report on Global Warming of 1.5°C Approved by Governments.” Edited by IPCC Organization, IPCC Summary for Policymakers of IPCC Special Report on Global Warming of 15C Approved by Governments Comments, 2018, www.ipcc.ch/2018/10/08/summary-for-policymakers-of-ipcc-special-report-on-global-warming-of-1-5c-approved-by-governments/. \n",
    "\n",
    "[^ca.gov]: Clegern, Dave, and Stanley  Young. “California Moves to Accelerate to 100% New Zero-Emission Vehicle Sales by 2035.” California Moves to Accelerate to 100% New Zero-Emission Vehicle Sales by 2035 | California Air Resources Board, 25 Aug. 2022, ww2.arb.ca.gov/news/california-moves-accelerate-100-new-zero-emission-vehicle-sales-2035#:~:text=General%20requirements,and%20reach%20100%25%20in%202035. \n",
    "\n",
    "[^energy]: Nyberg, Michael. “2021 Total System Electric Generation.” California Energy Commission, California Energy Commission, 2021, www.energy.ca.gov/data-reports/energy-almanac/california-electricity-data/2021-total-system-electric-generation. \n",
    "\n",
    "\n",
    "Why it is interesting to us:\n",
    "Gasoline vehicles will be eliminated in the near future, and electric vehicles will become the most popular.\n",
    "1) The research of efficiency of electric vehicles can better solve the problems of the electric vehicle cruising range being not long enough. \n",
    "2) It can be better to estimate the additional power required by the increase of electric vehicles in the US future. \n",
    "\n",
    "Why it is important to us:\n",
    "1) In this study, we found that we can estimate the amount of electricity for how many miles we can go. For example, I can better plan my travel plans if I own an electric vehicle.\n",
    "2) We can also estimate how much energy we can save and how much CO2 emission we reduce."
   ]
  },
  {
   "cell_type": "markdown",
   "metadata": {},
   "source": [
    "# Hypothesis\n"
   ]
  },
  {
   "cell_type": "markdown",
   "metadata": {},
   "source": [
    "\n",
    "- Include your team's hypothesis\n",
    "- Ensure that this hypothesis is clear to readers\n",
    "- Explain why you think this will be the outcome (what was your thinking?)\n",
    "\n",
    "What is your main hypothesis/predictions about what the answer to your question is? Briefly explain your thinking. (2-3 sentences)\n",
    "\n",
    "**There exists a linear relationship between effiency and some explanatory variables(such as weight, horsepower, and temperature).\n",
    "That is, we can find a function Y = β0 + β1X1 + β2X2 + ⋯ + βpXp + ϵ, where Y is efficiency, Xs are explanatory variables, and \n",
    "ϵ represents some error.**\n",
    "\n",
    "**H_0 = β1 = β2 = ... = βj = 0, if we select j Xs.**\n",
    "\n",
    "**H_1 = at least one β, one of the coefficient of Xs, is not zero.**\n",
    "\n",
    "**We predict the linear relationship exists. For example, according to Newton's law, the greater the mass the greater the inertia \n",
    "of something. So a heavier car requires more energy to move from rest.**\n"
   ]
  },
  {
   "cell_type": "markdown",
   "metadata": {},
   "source": [
    "# Data"
   ]
  },
  {
   "cell_type": "markdown",
   "metadata": {},
   "source": [
    "1. Explain what the **ideal** dataset you would want to answer this question. (This should include: What variables? How many observations? Who/what/how would these data be collected? How would these data be stored/organized?)\n",
    "   \n",
    "- Dataset Name: EV cars dataset\n",
    "   \n",
    "- Variables are classifiled into two categories: categorical and numeric\n",
    "   \n",
    "- This Data is stored in Excel In a worksheet\n",
    "   \n",
    "- Number of observations: 50\n",
    "   \n",
    "The dataset is taken from electric vehicle database, it includes the model, usable battery, acceleration, drive, electric ranges, total ppwers, etc.\n",
    "   \n",
    "2. Search for potential **real** datasets that could provide you with something useful for this project.  You do not have to find every piece of data you will use, but you do need to have demonstrated some idea that (a) this data is gettable and (b) that this data may be different from what your ideal is"
   ]
  },
  {
   "cell_type": "code",
   "execution_count": 2,
   "metadata": {},
   "outputs": [
    {
     "data": {
      "text/html": [
       "<div>\n",
       "<style scoped>\n",
       "    .dataframe tbody tr th:only-of-type {\n",
       "        vertical-align: middle;\n",
       "    }\n",
       "\n",
       "    .dataframe tbody tr th {\n",
       "        vertical-align: top;\n",
       "    }\n",
       "\n",
       "    .dataframe thead th {\n",
       "        text-align: right;\n",
       "    }\n",
       "</style>\n",
       "<table border=\"1\" class=\"dataframe\">\n",
       "  <thead>\n",
       "    <tr style=\"text-align: right;\">\n",
       "      <th></th>\n",
       "      <th>Brand</th>\n",
       "      <th>Model</th>\n",
       "      <th>Usable Battery(Wh)</th>\n",
       "      <th>Combined - Cold Weather(Wh/km)</th>\n",
       "      <th>Combined -Mild Weather(Wh/km)</th>\n",
       "      <th>Acceleration(0-100km/h)</th>\n",
       "      <th>Battery Type</th>\n",
       "      <th>Drive</th>\n",
       "      <th>Electric Range(km)</th>\n",
       "      <th>Total Power(kw)</th>\n",
       "      <th>Total Torque(Nm)</th>\n",
       "      <th>Efficiency(Wh/km)</th>\n",
       "      <th>Towing Weight(kg)</th>\n",
       "      <th>Gross Vehicle Weight(kg)</th>\n",
       "      <th>Weight Unladen(EU)</th>\n",
       "      <th>Number of seats</th>\n",
       "    </tr>\n",
       "  </thead>\n",
       "  <tbody>\n",
       "    <tr>\n",
       "      <th>0</th>\n",
       "      <td>Tesla</td>\n",
       "      <td>Model 3 Long Range Dual Motor</td>\n",
       "      <td>75000</td>\n",
       "      <td>188</td>\n",
       "      <td>134</td>\n",
       "      <td>4.4</td>\n",
       "      <td>Lithium-ion</td>\n",
       "      <td>AWD</td>\n",
       "      <td>485</td>\n",
       "      <td>366</td>\n",
       "      <td>493</td>\n",
       "      <td>154.639175</td>\n",
       "      <td>1000</td>\n",
       "      <td>2232</td>\n",
       "      <td>1919</td>\n",
       "      <td>5</td>\n",
       "    </tr>\n",
       "    <tr>\n",
       "      <th>1</th>\n",
       "      <td>Tesla</td>\n",
       "      <td>Model Y Long Range Dual Motor</td>\n",
       "      <td>75000</td>\n",
       "      <td>205</td>\n",
       "      <td>149</td>\n",
       "      <td>5.0</td>\n",
       "      <td>Lithium-ion</td>\n",
       "      <td>AWD</td>\n",
       "      <td>435</td>\n",
       "      <td>378</td>\n",
       "      <td>493</td>\n",
       "      <td>172.413793</td>\n",
       "      <td>1600</td>\n",
       "      <td>2619</td>\n",
       "      <td>2054</td>\n",
       "      <td>5</td>\n",
       "    </tr>\n",
       "    <tr>\n",
       "      <th>2</th>\n",
       "      <td>Tesla</td>\n",
       "      <td>Model 3</td>\n",
       "      <td>57500</td>\n",
       "      <td>183</td>\n",
       "      <td>129</td>\n",
       "      <td>6.1</td>\n",
       "      <td>Lithium-ion</td>\n",
       "      <td>Rear</td>\n",
       "      <td>380</td>\n",
       "      <td>208</td>\n",
       "      <td>420</td>\n",
       "      <td>151.315789</td>\n",
       "      <td>1000</td>\n",
       "      <td>2149</td>\n",
       "      <td>1835</td>\n",
       "      <td>5</td>\n",
       "    </tr>\n",
       "    <tr>\n",
       "      <th>3</th>\n",
       "      <td>MG</td>\n",
       "      <td>MG4 Electric 64 kWh</td>\n",
       "      <td>61700</td>\n",
       "      <td>202</td>\n",
       "      <td>147</td>\n",
       "      <td>7.9</td>\n",
       "      <td>Lithium-ion</td>\n",
       "      <td>Rear</td>\n",
       "      <td>365</td>\n",
       "      <td>150</td>\n",
       "      <td>250</td>\n",
       "      <td>169.041096</td>\n",
       "      <td>500</td>\n",
       "      <td>2133</td>\n",
       "      <td>1785</td>\n",
       "      <td>5</td>\n",
       "    </tr>\n",
       "    <tr>\n",
       "      <th>4</th>\n",
       "      <td>Honda</td>\n",
       "      <td>e</td>\n",
       "      <td>28500</td>\n",
       "      <td>204</td>\n",
       "      <td>146</td>\n",
       "      <td>9.0</td>\n",
       "      <td>Lithium-ion</td>\n",
       "      <td>Rear</td>\n",
       "      <td>170</td>\n",
       "      <td>100</td>\n",
       "      <td>315</td>\n",
       "      <td>167.647059</td>\n",
       "      <td>0</td>\n",
       "      <td>1855</td>\n",
       "      <td>1588</td>\n",
       "      <td>4</td>\n",
       "    </tr>\n",
       "  </tbody>\n",
       "</table>\n",
       "</div>"
      ],
      "text/plain": [
       "   Brand                          Model  Usable Battery(Wh)  \\\n",
       "0  Tesla  Model 3 Long Range Dual Motor               75000   \n",
       "1  Tesla  Model Y Long Range Dual Motor               75000   \n",
       "2  Tesla                        Model 3               57500   \n",
       "3     MG            MG4 Electric 64 kWh               61700   \n",
       "4  Honda                              e               28500   \n",
       "\n",
       "   Combined - Cold Weather(Wh/km)  Combined -Mild Weather(Wh/km)  \\\n",
       "0                             188                            134   \n",
       "1                             205                            149   \n",
       "2                             183                            129   \n",
       "3                             202                            147   \n",
       "4                             204                            146   \n",
       "\n",
       "   Acceleration(0-100km/h) Battery Type Drive  Electric Range(km)  \\\n",
       "0                      4.4  Lithium-ion   AWD                 485   \n",
       "1                      5.0  Lithium-ion   AWD                 435   \n",
       "2                      6.1  Lithium-ion  Rear                 380   \n",
       "3                      7.9  Lithium-ion  Rear                 365   \n",
       "4                      9.0  Lithium-ion  Rear                 170   \n",
       "\n",
       "   Total Power(kw)  Total Torque(Nm)  Efficiency(Wh/km)  Towing Weight(kg)  \\\n",
       "0              366               493         154.639175               1000   \n",
       "1              378               493         172.413793               1600   \n",
       "2              208               420         151.315789               1000   \n",
       "3              150               250         169.041096                500   \n",
       "4              100               315         167.647059                  0   \n",
       "\n",
       "   Gross Vehicle Weight(kg)  Weight Unladen(EU)  Number of seats  \n",
       "0                      2232                1919                5  \n",
       "1                      2619                2054                5  \n",
       "2                      2149                1835                5  \n",
       "3                      2133                1785                5  \n",
       "4                      1855                1588                4  "
      ]
     },
     "execution_count": 2,
     "metadata": {},
     "output_type": "execute_result"
    }
   ],
   "source": [
    "import pandas as pd\n",
    "df =  pd.read_excel('EVcarsdataset2.xlsx')\n",
    "df.head(5)"
   ]
  },
  {
   "cell_type": "markdown",
   "metadata": {},
   "source": [
    "# Ethics & Privacy"
   ]
  },
  {
   "cell_type": "markdown",
   "metadata": {},
   "source": [
    "- Thoughtful discussion of ethical concerns included\n",
    "- Ethical concerns consider the whole data science process (question asked, data collected, data being used, the bias in data, analysis, post-analysis, etc.)\n",
    "- How your group handled bias/ethical concerns clearly described\n",
    "\n",
    "Acknowledge and address any ethics & privacy related issues of your question(s), proposed dataset(s), and/or analyses. Use the information provided in lecture to guide your group discussion and thinking. If you need further guidance, check out [Deon's Ethics Checklist](http://deon.drivendata.org/#data-science-ethics-checklist). In particular:\n",
    "\n",
    "- Are there any biases/privacy/terms of use issues with the data you propsed?\n",
    "  \n",
    "  **There are no personal information involved, or terms of use issues with the data we proposed because consumers have the right to know the performance and attributes of the vehicles. All of the data we obtained is from ev-database.org. The data does not involve any trade secrets, and they are merely some physical variables. There might be some potential biases, such as the sample we selected cannot represent the population.**\n",
    "  \n",
    "- Are there potential biases in your dataset(s), in terms of who it composes, and how it was collected, that may be problematic in terms of it allowing for equitable analysis? (For example, does your data exclude particular populations, or is it likely to reflect particular human biases in a way that could be a problem?)\n",
    "  \n",
    "  **We collected the data based on 'most viewed' on the ev-database.org website, since we believe the more popular an electric car is the more people will search for it, so it should rank higher in most viewed. This may be a potential bias, because we don't know the 'most viewed' algorithm behind the scene. To avoid this potential bias, we'd better make the sample as big as possible. Also, We do not know how they get the test data of these cars, they may come from the official website, or they may be tested by some experiments. This is the biggest risk because we can't guarantee the accuracy of the data. Hence, We can only ensure the accuracy of the data to the greatest extent by comparing the data on the official website.**\n",
    "  \n",
    "- How will you set out to detect these specific biases before, during, and after/when communicating your analysis?\n",
    "  \n",
    "  **Before the analysis, we will collect samples as many as we can. During the analysis, we will use graphs, such as scatter plots, to see if there exists some outliers that cannot reasonbly explained. After the analysis, we will use some physical laws or watching some videos shared by EV owners, i.e. the actual condition of EV vehicles usage, to examine the reasonableness of the linear regression equation.**\n",
    "  \n",
    "- Are there any other issues related to your topic area, data, and/or analyses that are potentially problematic in terms of data privacy and equitable impact?\n",
    "  \n",
    "  **Data privacy is not a big problem in terms of the physical properties of the vehicles. However, there may be some equitable impacts that may cause a wrong conclusion. In fact, the range of an electric car is affected by many things, including the battery management technology, the quality of the car's motor, and the power consumption of the air conditioner. However, we are not able to access these data, and therefore, we cannot come up with a very precise conslusion about efficiency(Wh/km). It depends on the vehicles and the driving habits of car owners.**\n",
    "  \n",
    "- How will you handle issues you identified?\n",
    "\n",
    "  **Firstly, we will collect our data from .gov or .org website. That is, we will try our best to keep the data from authorative sources. Secondly, we will collect samples as many as possible. Thirdly, we will notifiy readers that our conclusion is only an estimation.**"
   ]
  },
  {
   "cell_type": "markdown",
   "metadata": {},
   "source": [
    "# Team Expectations "
   ]
  },
  {
   "cell_type": "markdown",
   "metadata": {},
   "source": [
    "\n",
    "* Members should be contributing equally across the entire project submission\n",
    "* Discussing each person’s strengths up front, divide up responsibilities, develop a schedule for when each part will be done and who will be responsible for each section\n",
    "* Setting deadlines to accomplish each goal for this project\n",
    "* Avoiding blaming and encouraging members to accomplish the project\n",
    "* Respecting each other"
   ]
  },
  {
   "cell_type": "markdown",
   "metadata": {},
   "source": [
    "# Project Timeline Proposal"
   ]
  },
  {
   "cell_type": "markdown",
   "metadata": {},
   "source": [
    "Specify your team's specific project timeline. An example timeline has been provided. Changes the dates, times, names, and details to fit your group's plan.\n",
    "\n",
    "If you think you will need any special resources or training outside what we have covered in COGS 108 to solve your problem, then your proposal should state these clearly. For example, if you have selected a problem that involves implementing multiple neural networks, please state this so we can make sure you know what you’re doing and so we can point you to resources you will need to implement your project. Note that you are not required to use outside methods.\n",
    "\n",
    "\n",
    "\n",
    "| Meeting Date  | Meeting Time| Completed Before Meeting  | Discuss at Meeting |\n",
    "|---|---|---|---|\n",
    "| 10/22  |  7 PM | Read & Think about COGS 108 expectations; brainstorm topics/questions  | Determine the topic of the project; Go through the project details; begin background research | \n",
    "| 10/23  |  7 PM |  Finish Project Proposal | Discuss ideal dataset(s) and ethics; Draft Project; Determine the dataset | \n",
    "| 10/26  |  7 PM | Working on dataset   | Searching for useful dataset and manually input the data if needed | \n",
    "| 10/30  | 7 PM  | Begin Data Wrangling(Kai Yui Yeung) | Assign group members to lead each specific part: Descriptive Analysis, EDA, and Inferential Analysis   |\n",
    "| 11/06  | 7 PM  | Import & Finalize wrangling Data (Ant Man); Finish EDA (Tony Bao); Checkpoint #1: Data*| Review/Edit wrangling/EDA; Discuss Analysis Plan   |\n",
    "| 11/13  | 7 PM  | Begin Inferential Analysis (Zhilin Kong) | Discuss/edit Inferential Analysis; Complete project check-in |\n",
    "| 11/20  | 7 PM  | Complete analysis; Draft results/conclusion/discussion (Wasp); Checkpoint #2: EDA*| Discuss/edit full project |\n",
    "| 11/27  | 7 PM  | NA | Turn in Final Project& Final Video & Group Project Surveys |"
   ]
  }
 ],
 "metadata": {
  "kernelspec": {
   "display_name": "Python 3.9.0 64-bit",
   "language": "python",
   "name": "python3"
  },
  "language_info": {
   "codemirror_mode": {
    "name": "ipython",
    "version": 3
   },
   "file_extension": ".py",
   "mimetype": "text/x-python",
   "name": "python",
   "nbconvert_exporter": "python",
   "pygments_lexer": "ipython3",
   "version": "3.9.0"
  },
  "vscode": {
   "interpreter": {
    "hash": "aee8b7b246df8f9039afb4144a1f6fd8d2ca17a180786b69acc140d282b71a49"
   }
  }
 },
 "nbformat": 4,
 "nbformat_minor": 2
}
